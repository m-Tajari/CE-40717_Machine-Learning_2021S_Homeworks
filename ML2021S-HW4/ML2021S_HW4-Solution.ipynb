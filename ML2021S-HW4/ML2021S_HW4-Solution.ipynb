{
 "cells": [
  {
   "cell_type": "markdown",
   "metadata": {
    "deletable": false,
    "editable": false,
    "heading_collapsed": true,
    "id": "7P66a3NStetI",
    "run_control": {
     "frozen": true
    }
   },
   "source": [
    "# CE-40717: Machine Learning"
   ]
  },
  {
   "cell_type": "markdown",
   "metadata": {
    "deletable": false,
    "editable": false,
    "heading_collapsed": true,
    "hidden": true,
    "run_control": {
     "frozen": true
    }
   },
   "source": [
    "## HW4-MultiLayer Perceptron (MLP)"
   ]
  },
  {
   "cell_type": "markdown",
   "metadata": {
    "ExecuteTime": {
     "end_time": "2021-05-01T03:53:27.554701Z",
     "start_time": "2021-05-01T03:53:27.543578Z"
    },
    "deletable": false,
    "editable": false,
    "hidden": true,
    "run_control": {
     "frozen": true
    }
   },
   "source": [
    "[<img src=\"./images/ML2021S-HW4.jpg\" width=1111>](https://quera.ir/assignment/28686/get_pdf_file)"
   ]
  },
  {
   "cell_type": "markdown",
   "metadata": {
    "ExecuteTime": {
     "end_time": "2021-05-01T03:55:57.811495Z",
     "start_time": "2021-05-01T03:55:57.806067Z"
    },
    "deletable": false,
    "editable": false,
    "hidden": true,
    "run_control": {
     "frozen": true
    }
   },
   "source": [
    "---\n",
    "---"
   ]
  },
  {
   "cell_type": "markdown",
   "metadata": {
    "deletable": false,
    "editable": false,
    "hidden": true,
    "id": "ZsX3itNwTc8T",
    "run_control": {
     "frozen": true
    }
   },
   "source": [
    "The following lines of code will load the [MNIST](http://yann.lecun.com/exdb/mnist/) data and turn them\n",
    "into numpy arrays, you can print their shape if you like.\n",
    "You can also transform the data as you wish, including seperating\n",
    "the training data for cross validation.\n",
    "\n",
    "If you have the data (on google drive or locally) change the root\n",
    "address accordingly, if you don't, set download=True but you might encounter\n",
    "some problems downloading the data."
   ]
  },
  {
   "cell_type": "code",
   "execution_count": 1,
   "metadata": {
    "ExecuteTime": {
     "end_time": "2021-05-02T06:26:40.796965Z",
     "start_time": "2021-05-02T06:26:40.270440Z"
    },
    "hidden": true,
    "id": "eRDGolwttJJr"
   },
   "outputs": [],
   "source": [
    "import torchvision.datasets as ds\n",
    "import numpy as np\n",
    "\n",
    "data_train = np.array(ds.MNIST(root=\"./data\", train=True, download=True).data)\n",
    "target_train = np.array(ds.MNIST(root=\"./data\", train=True, download=True).targets)\n",
    "data_test = np.array(ds.MNIST(root=\"./data\", train=False, download=True).data)\n",
    "target_test = np.array(ds.MNIST(root=\"./data\", train=False, download=True).targets)\n",
    "\n",
    "#### Transform the data! ####\n",
    "data_test = data_test.reshape(data_test.shape[0], -1)\n",
    "data_train = data_train.reshape(data_train.shape[0], -1)"
   ]
  },
  {
   "cell_type": "markdown",
   "metadata": {
    "deletable": false,
    "editable": false,
    "heading_collapsed": true,
    "hidden": true,
    "id": "OQ0i1tVuT3bb",
    "run_control": {
     "frozen": true
    }
   },
   "source": [
    "### Part1:\n",
    "Complete the functions of the MLP class to create\n",
    "a MultiLayer Perceptron"
   ]
  },
  {
   "cell_type": "code",
   "execution_count": 2,
   "metadata": {
    "ExecuteTime": {
     "end_time": "2021-05-02T06:26:45.048450Z",
     "start_time": "2021-05-02T06:26:45.038036Z"
    },
    "hidden": true,
    "id": "86AdE8SntShx"
   },
   "outputs": [],
   "source": [
    "class MLP:\n",
    "    def __init__(self, in_dimensions, out_dimensions):\n",
    "        self.w1 = np.random.normal(size=(in_dimensions, 512)) / in_dimensions\n",
    "        self.b1 = np.random.normal(size=(1,512)) / in_dimensions\n",
    "        self.w2 = np.random.normal(size=(512,out_dimensions)) / in_dimensions\n",
    "        self.b2 = np.random.normal(size=(1,out_dimensions)) / in_dimensions\n",
    "\n",
    "    def forward(self, x):\n",
    "        # perform a forward pass of the network and return the result\n",
    "        # remember to retain the value of each node (i.e. self.h1_forward)\n",
    "        # in order to use in backpropagation\n",
    "        # Use whatever activation function you wish for the first layer,\n",
    "        # and softmax activation for the output layer\n",
    "        self.x = x\n",
    "        self.h1 = np.matmul(x, self.w1) + self.b1 # N * 512\n",
    "        self.h1_a = np.maximum(self.h1, np.zeros_like(self.h1)) # N * 512\n",
    "        self.h2 = np.matmul(self.h1_a, self.w2) + self.b2 # N * 10\n",
    "        self.o = np.exp(self.h2) / np.sum(np.exp(self.h2), axis=1).reshape(x.shape[0],1) # N * 10\n",
    "        return self.o\n",
    "\n",
    "    def backward(self, loss, y):\n",
    "        # perform backpropagation on the loss value and compute the gradient\n",
    "        # w.r.t. every element of the network and retain them (i.e. self.w1_backward)\n",
    "        # don't forget to consider the regularization\n",
    "        one_hot = np.zeros((y.size, 10))\n",
    "        one_hot[np.arange(y.size), y] = 1\n",
    "        self.h2_backward = self.o - one_hot\n",
    "        self.w2_backward = np.matmul(self.h1_a.T, self.h2_backward)\n",
    "        self.b2_backward = np.sum(self.h2_backward, axis=0)\n",
    "        self.h1_a_backward = np.matmul(self.h2_backward, self.w2.T)\n",
    "        self.h1_backward =  (np.where(self.h1 > 0, self.h1_a_backward, np.zeros_like(self.h1_a_backward)))\n",
    "        #print(self.h1_a_backward)\n",
    "        self.b1_backward = np.sum(self.h1_backward, axis=0)\n",
    "        self.w1_backward = np.matmul(self.x.T, self.h1_backward)\n",
    "\n",
    "    def step(self, lr, lam):\n",
    "        # simply update all the weights using the gradinets computed in backward\n",
    "        # and the given learning rate with SGD\n",
    "        self.w1 -= lr*(self.w1_backward + 2 * lam * self.w1)\n",
    "        self.b1 -= lr*(self.b1_backward + 2 * lam * self.b1)\n",
    "        self.w2 -= lr*(self.w2_backward + 2 * lam * self.w2)\n",
    "        self.b2 -= lr*(self.b2_backward + 2 * lam * self.b2)"
   ]
  },
  {
   "cell_type": "markdown",
   "metadata": {
    "deletable": false,
    "editable": false,
    "heading_collapsed": true,
    "hidden": true,
    "id": "EeMLiOlMUC2D",
    "run_control": {
     "frozen": true
    }
   },
   "source": [
    "### Part2:\n",
    "Make instances of your network and train them **using l2 regularization and choose the lambda using k-fold cross validation\n",
    "(set the candidate lambda as you wish)**.\n",
    "\n",
    "You may choose the hyperparameters (i.e. num of epochs, learning rate etc.)\n",
    "as you wish. \n",
    "\n",
    "Then train a final model on all the training data with the chosen lambda.\n"
   ]
  },
  {
   "cell_type": "code",
   "execution_count": 3,
   "metadata": {
    "ExecuteTime": {
     "end_time": "2021-05-02T07:31:07.431296Z",
     "start_time": "2021-05-02T06:26:55.010652Z"
    },
    "hidden": true,
    "id": "0Ojg9CSL4vei"
   },
   "outputs": [
    {
     "name": "stdout",
     "output_type": "stream",
     "text": [
      "Lambda: 1\n",
      "Loss: 1.3690 Accuracy: 0.7840\n",
      "\n",
      "Lambda: 0.1\n",
      "Loss: 1.3353 Accuracy: 0.7885\n",
      "\n",
      "Lambda: 0.01\n",
      "Loss: 1.3815 Accuracy: 0.7883\n",
      "\n",
      "Lambda: 0.001\n",
      "Loss: 1.3782 Accuracy: 0.7874\n",
      "\n",
      "Best lambda is 0.1 with 0.7885 accuracy\n"
     ]
    }
   ],
   "source": [
    "n_epochs = 30\n",
    "lr = 1e-8\n",
    "k = 10\n",
    "fold_len = int(data_train.shape[0]/k)\n",
    "lambdas = [1, 0.1 , 0.01, 0.001] \n",
    "best_lambda = 1\n",
    "best_acc = 0\n",
    "\n",
    "for l in lambdas:\n",
    "    acc = 0 # accuracy for current lambda\n",
    "    loss = 0 # loss for current lambda\n",
    "    for j in range(k):\n",
    "        model = MLP(28**2, 10)\n",
    "        train_set = np.concatenate((data_train[0: j * fold_len], data_train[(j + 1) * fold_len:])) # the training data for the current fold\n",
    "        train_target = np.concatenate((target_train[0: j * fold_len], target_train[(j + 1) * fold_len:])) # the training targets for the current fold\n",
    "        val_set = data_train[j * fold_len:(j + 1) * fold_len] # the validation data for the current fold\n",
    "        val_target = target_train[j * fold_len:(j + 1) * fold_len] # the validation targets for the current fold\n",
    "\n",
    "        for i in range(n_epochs):\n",
    "            # train the model on the data with the curent lambda\n",
    "            out = model.forward(train_set)\n",
    "            loss = np.mean(-np.log(out[np.arange(train_target.size), train_target]))\n",
    "            model.backward(loss, train_target)\n",
    "            model.step(lr, l)\n",
    "\n",
    "        # test the model on the current validation data\n",
    "        out = model.forward(val_set)\n",
    "        fold_loss = np.mean(-np.log(out[np.arange(val_target.size), val_target])) # current fold loss\n",
    "        fold_acc = np.sum(np.argmax(out, axis=1) == val_target) / val_target.size # current fold accuracy\n",
    "        acc += fold_acc/k\n",
    "        loss += fold_loss/k\n",
    "\n",
    "    print(\"Lambda:\", l)\n",
    "    print(\"Loss: %.4f Accuracy: %.4f\" % (loss, acc))\n",
    "    print()\n",
    "    if acc > best_acc:\n",
    "        best_acc = acc\n",
    "        best_lambda = l\n",
    "\n",
    "print(\"Best lambda is\",best_lambda, \"with %.4f accuracy\" % best_acc)"
   ]
  },
  {
   "cell_type": "markdown",
   "metadata": {
    "deletable": false,
    "editable": false,
    "heading_collapsed": true,
    "hidden": true,
    "id": "6cDg4S27xD5Y",
    "run_control": {
     "frozen": true
    }
   },
   "source": [
    "### Part3:\n",
    "Train a final model using the best lambda on all the training data"
   ]
  },
  {
   "cell_type": "code",
   "execution_count": 4,
   "metadata": {
    "ExecuteTime": {
     "end_time": "2021-05-02T08:50:54.032153Z",
     "start_time": "2021-05-02T08:49:12.098241Z"
    },
    "hidden": true,
    "id": "fE1mC1BkxMdt"
   },
   "outputs": [],
   "source": [
    "n_epochs = 30\n",
    "lr = 1e-8\n",
    "final_model = MLP(28**2, 10)\n",
    "losses = []\n",
    "accs = []\n",
    "\n",
    "for i in range(n_epochs):\n",
    "    out = final_model.forward(data_train)\n",
    "    loss = np.mean(-np.log(out[np.arange(target_train.size), target_train]))\n",
    "    losses.append(loss)\n",
    "    final_model.backward(loss, target_train)\n",
    "    final_model.step(lr, best_lambda)\n",
    "    acc = np.sum(np.argmax(out, axis=1) == target_train) / target_train.size\n",
    "    accs.append(acc)"
   ]
  },
  {
   "cell_type": "markdown",
   "metadata": {
    "deletable": false,
    "editable": false,
    "heading_collapsed": true,
    "hidden": true,
    "run_control": {
     "frozen": true
    }
   },
   "source": [
    "### Part4:"
   ]
  },
  {
   "cell_type": "markdown",
   "metadata": {
    "deletable": false,
    "editable": false,
    "hidden": true,
    "id": "6X8hFKXQUeml",
    "run_control": {
     "frozen": true
    }
   },
   "source": [
    "Plot the training loss value and accuracy (mean over all batches each epoch if you're using mini-batches) over epochs\n",
    "for the final model that is trained on all the training data"
   ]
  },
  {
   "cell_type": "code",
   "execution_count": 5,
   "metadata": {
    "ExecuteTime": {
     "end_time": "2021-05-02T08:51:21.277133Z",
     "start_time": "2021-05-02T08:51:08.220775Z"
    },
    "hidden": true
   },
   "outputs": [
    {
     "data": {
      "image/png": "[encoded data removed]",
      "text/plain": [
       "<Figure size 1080x360 with 2 Axes>"
      ]
     },
     "metadata": {},
     "output_type": "display_data"
    }
   ],
   "source": [
    "import matplotlib.pyplot as plt\n",
    "from jupyterthemes import jtplot\n",
    "jtplot.style(theme=\"onedork\", context=\"notebook\", grid=False)\n",
    "\n",
    "fig, axes = plt.subplots(nrows=1, ncols=2, figsize=(15,5))\n",
    "fig.tight_layout(pad=2)\n",
    "\n",
    "axes[0].plot(losses, c=\"cyan\", lw=3)\n",
    "axes[0].set_xlabel(xlabel=\"iteration\")\n",
    "axes[0].set_ylabel(ylabel=\"training loss\")\n",
    "\n",
    "axes[1].plot(accs, c=\"orange\", lw=3)\n",
    "axes[1].set_xlabel(xlabel=\"iteration\")\n",
    "axes[1].set_ylabel(ylabel=\"training accuracy\");"
   ]
  },
  {
   "cell_type": "markdown",
   "metadata": {
    "deletable": false,
    "editable": false,
    "hidden": true,
    "id": "WIaBwatyUqmC",
    "run_control": {
     "frozen": true
    }
   },
   "source": [
    "Use your network on the test set and report the accuracy, you must get at least 70% accuracy on the test set."
   ]
  },
  {
   "cell_type": "code",
   "execution_count": 6,
   "metadata": {
    "ExecuteTime": {
     "end_time": "2021-05-02T08:51:32.804107Z",
     "start_time": "2021-05-02T08:51:32.457899Z"
    },
    "hidden": true,
    "id": "NmQiBh4C5ULJ"
   },
   "outputs": [
    {
     "name": "stdout",
     "output_type": "stream",
     "text": [
      "0.811\n"
     ]
    }
   ],
   "source": [
    "out = final_model.forward(data_test)\n",
    "acc = np.sum(np.argmax(out, axis=1) == target_test) / target_test.size\n",
    "print(acc)"
   ]
  },
  {
   "cell_type": "markdown",
   "metadata": {
    "deletable": false,
    "editable": false,
    "hidden": true,
    "id": "zyp8Wgx_nV-A",
    "run_control": {
     "frozen": true
    }
   },
   "source": [
    "Below you can add code cells and improve on the network structure as you see fit (it still must be an MLP), train and test your network and explain why it works better."
   ]
  }
 ],
 "metadata": {
  "colab": {
   "collapsed_sections": [],
   "name": "ML2021S-HW4-Practical.ipynb",
   "provenance": []
  },
  "kernelspec": {
   "display_name": "Python 3",
   "language": "python",
   "name": "python3"
  },
  "language_info": {
   "codemirror_mode": {
    "name": "ipython",
    "version": 3
   },
   "file_extension": ".py",
   "mimetype": "text/x-python",
   "name": "python",
   "nbconvert_exporter": "python",
   "pygments_lexer": "ipython3",
   "version": "3.8.6"
  },
  "toc": {
   "base_numbering": 1,
   "nav_menu": {},
   "number_sections": true,
   "sideBar": true,
   "skip_h1_title": false,
   "title_cell": "Table of Contents",
   "title_sidebar": "Contents",
   "toc_cell": false,
   "toc_position": {},
   "toc_section_display": true,
   "toc_window_display": false
  },
  "varInspector": {
   "cols": {
    "lenName": 16,
    "lenType": 16,
    "lenVar": 40
   },
   "kernels_config": {
    "python": {
     "delete_cmd_postfix": "",
     "delete_cmd_prefix": "del ",
     "library": "var_list.py",
     "varRefreshCmd": "print(var_dic_list())"
    },
    "r": {
     "delete_cmd_postfix": ") ",
     "delete_cmd_prefix": "rm(",
     "library": "var_list.r",
     "varRefreshCmd": "cat(var_dic_list()) "
    }
   },
   "types_to_exclude": [
    "module",
    "function",
    "builtin_function_or_method",
    "instance",
    "_Feature"
   ],
   "window_display": false
  }
 },
 "nbformat": 4,
 "nbformat_minor": 1
}
