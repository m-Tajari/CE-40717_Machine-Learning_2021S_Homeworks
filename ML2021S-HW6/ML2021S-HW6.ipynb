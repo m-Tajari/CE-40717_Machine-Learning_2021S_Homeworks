{
 "cells": [
  {
   "cell_type": "markdown",
   "metadata": {
    "deletable": false,
    "editable": false,
    "heading_collapsed": true,
    "run_control": {
     "frozen": true
    }
   },
   "source": [
    "# CE-40717: Machine Learning"
   ]
  },
  {
   "cell_type": "markdown",
   "metadata": {
    "deletable": false,
    "editable": false,
    "heading_collapsed": true,
    "hidden": true,
    "run_control": {
     "frozen": true
    }
   },
   "source": [
    "## HW6-Gradient Boosting"
   ]
  },
  {
   "cell_type": "markdown",
   "metadata": {
    "deletable": false,
    "editable": false,
    "hidden": true,
    "run_control": {
     "frozen": true
    }
   },
   "source": [
    "[<img src=\"./images/ML2021S-HW6.jpg\" width=1100>](https://quera.ir/assignment/30008/get_pdf_file)"
   ]
  },
  {
   "cell_type": "markdown",
   "metadata": {
    "deletable": false,
    "editable": false,
    "hidden": true,
    "run_control": {
     "frozen": true
    }
   },
   "source": [
    "---\n",
    "---"
   ]
  },
  {
   "cell_type": "markdown",
   "metadata": {
    "deletable": false,
    "editable": false,
    "heading_collapsed": true,
    "hidden": true,
    "id": "2vqwJ6O-qQyT",
    "run_control": {
     "frozen": true
    }
   },
   "source": [
    "### Installation:\n",
    "You can use [sklearn](https://scikit-learn.org) and [xgboost](https://xgboost.readthedocs.io) packages:\n",
    "```python\n",
    "!pip install -U scikit-learn\n",
    "!pip install xgboost\n",
    "```"
   ]
  },
  {
   "cell_type": "code",
   "execution_count": null,
   "metadata": {
    "hidden": true
   },
   "outputs": [],
   "source": []
  },
  {
   "cell_type": "code",
   "execution_count": 1,
   "metadata": {
    "ExecuteTime": {
     "end_time": "2021-06-04T10:39:07.068166Z",
     "start_time": "2021-06-04T10:39:05.916444Z"
    },
    "hidden": true
   },
   "outputs": [],
   "source": [
    "import numpy as np\n",
    "import matplotlib.pyplot as plt\n",
    "import xgboost as xgb\n",
    "\n",
    "from time import time\n",
    "from sklearn import datasets\n",
    "from sklearn.model_selection import train_test_split\n",
    "from sklearn.ensemble import GradientBoostingClassifier\n",
    "from sklearn.metrics import precision_score, recall_score, f1_score, plot_confusion_matrix, confusion_matrix"
   ]
  },
  {
   "cell_type": "markdown",
   "metadata": {
    "deletable": false,
    "editable": false,
    "heading_collapsed": true,
    "hidden": true,
    "run_control": {
     "frozen": true
    }
   },
   "source": [
    "### Load & Prepare Dataset:"
   ]
  },
  {
   "cell_type": "code",
   "execution_count": 2,
   "metadata": {
    "ExecuteTime": {
     "end_time": "2021-06-04T10:39:22.238715Z",
     "start_time": "2021-06-04T10:39:22.227746Z"
    },
    "hidden": true
   },
   "outputs": [
    {
     "name": "stdout",
     "output_type": "stream",
     "text": [
      "30 ['setosa' 'versicolor' 'virginica']\n"
     ]
    }
   ],
   "source": [
    "np.random.seed(seed=13)\n",
    "\n",
    "# load dataset:\n",
    "iris = datasets.load_iris()\n",
    "X = iris.data\n",
    "y = iris.target\n",
    "\n",
    "\n",
    "# preprocess(if you need):\n",
    "\n",
    "\n",
    "# split dataset to train set and validation set:\n",
    "x_train, x_val, y_train, y_val = train_test_split(X, y, test_size=0.2)\n",
    "\n",
    "data_train = xgb.DMatrix(data=x_train, label=y_train)\n",
    "data_val = xgb.DMatrix(data=x_val, label=y_val)\n",
    "\n",
    "n_val = y_val.shape[0]\n",
    "class_names = iris.target_names\n",
    "print(n_val, class_names)"
   ]
  },
  {
   "cell_type": "markdown",
   "metadata": {
    "deletable": false,
    "editable": false,
    "heading_collapsed": true,
    "hidden": true,
    "run_control": {
     "frozen": true
    }
   },
   "source": [
    "### Set Hyperparameter for Both Gradine Boost & XGboost:"
   ]
  },
  {
   "cell_type": "code",
   "execution_count": 3,
   "metadata": {
    "ExecuteTime": {
     "end_time": "2021-06-04T10:39:34.703631Z",
     "start_time": "2021-06-04T10:39:34.698627Z"
    },
    "hidden": true
   },
   "outputs": [],
   "source": [
    "# Gradine Boost:\n",
    "GB_param = dict(n_estimators=5,\n",
    "                learning_rate=0.01,\n",
    "                max_depth=3,\n",
    "                random_state=0)\n",
    "\n",
    "# XGboost:\n",
    "XGboost_param = {\"eta\": 0.3,\n",
    "                 \"silent\": True,\n",
    "                 \"objective\": \"multi:softprob\",\n",
    "                 \"num_class\": 3,\n",
    "                 \"max_depth\": 3}\n",
    "\n",
    "num_round = 5"
   ]
  },
  {
   "cell_type": "markdown",
   "metadata": {
    "deletable": false,
    "editable": false,
    "heading_collapsed": true,
    "hidden": true,
    "run_control": {
     "frozen": true
    }
   },
   "source": [
    "### Define Classifiers:"
   ]
  },
  {
   "cell_type": "code",
   "execution_count": 4,
   "metadata": {
    "ExecuteTime": {
     "end_time": "2021-06-04T10:39:40.232106Z",
     "start_time": "2021-06-04T10:39:40.228782Z"
    },
    "hidden": true
   },
   "outputs": [],
   "source": [
    "# define classifier for gradient boost:\n",
    "GB_clf = GradientBoostingClassifier(n_estimators=5, learning_rate=0.01, max_depth=3, random_state=0)\n",
    "\n",
    "# define classifier for XGboost:\n",
    "XGboost_clf = xgb"
   ]
  },
  {
   "cell_type": "markdown",
   "metadata": {
    "deletable": false,
    "editable": false,
    "heading_collapsed": true,
    "hidden": true,
    "run_control": {
     "frozen": true
    }
   },
   "source": [
    "### Train Both Classifiers:"
   ]
  },
  {
   "cell_type": "code",
   "execution_count": 5,
   "metadata": {
    "ExecuteTime": {
     "end_time": "2021-06-04T10:39:44.653524Z",
     "start_time": "2021-06-04T10:39:44.590050Z"
    },
    "hidden": true
   },
   "outputs": [
    {
     "name": "stdout",
     "output_type": "stream",
     "text": [
      "GB_train_time: 12.537479400634766 millisecond\n",
      "[15:09:44] WARNING: C:/Users/Administrator/workspace/xgboost-win64_release_1.4.0/src/learner.cc:573: \n",
      "Parameters: { \"silent\" } might not be used.\n",
      "\n",
      "  This may not be accurate due to some parameters are only used in language bindings but\n",
      "  passed down to XGBoost core.  Or some parameters are not used but slip through this\n",
      "  verification. Please open an issue if you find above cases.\n",
      "\n",
      "\n",
      "[15:09:44] WARNING: C:/Users/Administrator/workspace/xgboost-win64_release_1.4.0/src/learner.cc:1095: Starting in XGBoost 1.3.0, the default evaluation metric used with the objective 'multi:softprob' was changed from 'merror' to 'mlogloss'. Explicitly set eval_metric if you'd like to restore the old behavior.\n",
      "XGboost_train_time: 46.91910743713379 millisecond\n"
     ]
    }
   ],
   "source": [
    "# train  gradient boost:\n",
    "tic = time()\n",
    "trained_GB = GB_clf.fit(x_train, y_train)\n",
    "toc = time()\n",
    "\n",
    "# calculate training time for GB:\n",
    "GB_train_time = toc - tic\n",
    "print(f\"GB_train_time: {1000.0*GB_train_time} millisecond\")\n",
    "\n",
    "\n",
    "# train XGboost:\n",
    "tic = time()\n",
    "trained_XGboost = XGboost_clf.train(XGboost_param, data_train, num_round)\n",
    "toc = time()\n",
    "\n",
    "# calculate training time for XGboost:\n",
    "XGboost_train_time = toc - tic\n",
    "print(f\"XGboost_train_time: {1000.0*XGboost_train_time} millisecond\")"
   ]
  },
  {
   "cell_type": "markdown",
   "metadata": {
    "deletable": false,
    "editable": false,
    "heading_collapsed": true,
    "hidden": true,
    "run_control": {
     "frozen": true
    }
   },
   "source": [
    "### Prediction on Validation Set:"
   ]
  },
  {
   "cell_type": "code",
   "execution_count": 6,
   "metadata": {
    "ExecuteTime": {
     "end_time": "2021-06-04T10:39:51.950128Z",
     "start_time": "2021-06-04T10:39:51.942131Z"
    },
    "hidden": true
   },
   "outputs": [
    {
     "name": "stdout",
     "output_type": "stream",
     "text": [
      "GB_val_time_per_data: 0.0 millisecond\n",
      "XGboost_val_time_per_data: 0.052301088968912765 millisecond\n"
     ]
    }
   ],
   "source": [
    "# prediction for gradient boost:\n",
    "tic = time()\n",
    "y_pred_GB = trained_GB.predict(x_val)\n",
    "toc = time()\n",
    "\n",
    "# calculate validation time per data for GB:\n",
    "GB_val_time_per_data = (toc - tic)/n_val\n",
    "print(f\"GB_val_time_per_data: {1000.0*GB_val_time_per_data} millisecond\")\n",
    "\n",
    "\n",
    "# prediction for XGboost:\n",
    "tic = time()\n",
    "y_pred_XGboost = trained_XGboost.predict(data_val)\n",
    "toc = time()\n",
    "y_pred_XGboost = np.asarray([np.argmax(line) for line in y_pred_XGboost])\n",
    "\n",
    "# calculate validation time per data for XGboost:\n",
    "XGboost_val_time_per_data = (toc - tic)/n_val\n",
    "print(f\"XGboost_val_time_per_data: {1000.0*XGboost_val_time_per_data} millisecond\")"
   ]
  },
  {
   "cell_type": "markdown",
   "metadata": {
    "deletable": false,
    "editable": false,
    "heading_collapsed": true,
    "hidden": true,
    "run_control": {
     "frozen": true
    }
   },
   "source": [
    "### Evaluation (precision - recall - F1 score - confusion matrix):"
   ]
  },
  {
   "cell_type": "markdown",
   "metadata": {
    "deletable": false,
    "editable": false,
    "heading_collapsed": true,
    "hidden": true,
    "run_control": {
     "frozen": true
    }
   },
   "source": [
    "#### for Gradient Boost:"
   ]
  },
  {
   "cell_type": "code",
   "execution_count": 7,
   "metadata": {
    "ExecuteTime": {
     "end_time": "2021-06-04T10:39:58.361546Z",
     "start_time": "2021-06-04T10:39:58.355536Z"
    },
    "hidden": true
   },
   "outputs": [
    {
     "name": "stdout",
     "output_type": "stream",
     "text": [
      "precision_GB: 0.9333333333333332\n"
     ]
    }
   ],
   "source": [
    "# calculate precision\n",
    "precision_GB = precision_score(y_val, y_pred_GB, average=\"macro\")\n",
    "\n",
    "print(f\"precision_GB: {precision_GB}\")"
   ]
  },
  {
   "cell_type": "code",
   "execution_count": 8,
   "metadata": {
    "ExecuteTime": {
     "end_time": "2021-06-04T10:40:02.070984Z",
     "start_time": "2021-06-04T10:40:02.065028Z"
    },
    "hidden": true
   },
   "outputs": [
    {
     "name": "stdout",
     "output_type": "stream",
     "text": [
      "recall_GB: 0.9487179487179488\n"
     ]
    }
   ],
   "source": [
    "# calculate recall\n",
    "recall_GB = recall_score(y_val, y_pred_GB, average=\"macro\")\n",
    "\n",
    "print(f\"recall_GB: {recall_GB}\")"
   ]
  },
  {
   "cell_type": "code",
   "execution_count": 9,
   "metadata": {
    "ExecuteTime": {
     "end_time": "2021-06-04T10:40:03.711086Z",
     "start_time": "2021-06-04T10:40:03.707069Z"
    },
    "hidden": true
   },
   "outputs": [
    {
     "name": "stdout",
     "output_type": "stream",
     "text": [
      "F1_GB: 0.9351851851851851\n"
     ]
    }
   ],
   "source": [
    "# calculate F1 score\n",
    "f1_GB = f1_score(y_val, y_pred_GB, average=\"macro\")\n",
    "\n",
    "print(f\"F1_GB: {f1_GB}\")"
   ]
  },
  {
   "cell_type": "code",
   "execution_count": 10,
   "metadata": {
    "ExecuteTime": {
     "end_time": "2021-06-04T10:40:06.453859Z",
     "start_time": "2021-06-04T10:40:06.020230Z"
    },
    "code_folding": [],
    "hidden": true
   },
   "outputs": [
    {
     "data": {
      "image/png": "[encoded data removed]",
      "text/plain": [
       "<Figure size 576x504 with 2 Axes>"
      ]
     },
     "metadata": {},
     "output_type": "display_data"
    },
    {
     "data": {
      "image/png": "[encoded data removed]",
      "text/plain": [
       "<Figure size 576x504 with 2 Axes>"
      ]
     },
     "metadata": {},
     "output_type": "display_data"
    }
   ],
   "source": [
    "from jupyterthemes import jtplot\n",
    "jtplot.style(theme=\"onedork\", context=\"notebook\", grid=False)\n",
    "\n",
    "# calculate confusion matrix\n",
    "titles_options = [(\"Confusion matrix, without normalization\", None),\n",
    "                  (\"Normalized confusion matrix\", \"true\")]\n",
    "for title, normalize in titles_options:\n",
    "    disp = plot_confusion_matrix(trained_GB, x_val, y_val,\n",
    "                                 display_labels=class_names,\n",
    "                                 cmap=plt.cm.Blues,\n",
    "                                 normalize=normalize)\n",
    "    disp.ax_.set_title(title)\n",
    "\n",
    "plt.show()"
   ]
  },
  {
   "cell_type": "markdown",
   "metadata": {
    "deletable": false,
    "editable": false,
    "heading_collapsed": true,
    "hidden": true,
    "run_control": {
     "frozen": true
    }
   },
   "source": [
    "#### for XGboost:"
   ]
  },
  {
   "cell_type": "code",
   "execution_count": 11,
   "metadata": {
    "ExecuteTime": {
     "end_time": "2021-06-04T10:40:25.003544Z",
     "start_time": "2021-06-04T10:40:24.996527Z"
    },
    "hidden": true
   },
   "outputs": [
    {
     "name": "stdout",
     "output_type": "stream",
     "text": [
      "precision_XGboost: 0.9629629629629629\n"
     ]
    }
   ],
   "source": [
    "# calculate precision\n",
    "precision_XGboost = precision_score(y_val, y_pred_XGboost, average=\"macro\")\n",
    "\n",
    "print(f\"precision_XGboost: {precision_XGboost}\")"
   ]
  },
  {
   "cell_type": "code",
   "execution_count": 12,
   "metadata": {
    "ExecuteTime": {
     "end_time": "2021-06-04T10:40:28.014877Z",
     "start_time": "2021-06-04T10:40:28.009865Z"
    },
    "hidden": true
   },
   "outputs": [
    {
     "name": "stdout",
     "output_type": "stream",
     "text": [
      "recall_XGboost: 0.9743589743589745\n"
     ]
    }
   ],
   "source": [
    "# calculate recall\n",
    "recall_XGboost = recall_score(y_val, y_pred_XGboost, average=\"macro\")\n",
    "\n",
    "print(f\"recall_XGboost: {recall_XGboost}\")"
   ]
  },
  {
   "cell_type": "code",
   "execution_count": 13,
   "metadata": {
    "ExecuteTime": {
     "end_time": "2021-06-04T10:40:31.630691Z",
     "start_time": "2021-06-04T10:40:31.624709Z"
    },
    "hidden": true
   },
   "outputs": [
    {
     "name": "stdout",
     "output_type": "stream",
     "text": [
      "F1_XGboost: 0.9670588235294119\n"
     ]
    }
   ],
   "source": [
    "# calculate F1 score\n",
    "f1_XGboost = f1_score(y_val, y_pred_XGboost, average=\"macro\")\n",
    "\n",
    "print(f\"F1_XGboost: {f1_XGboost}\")"
   ]
  },
  {
   "cell_type": "code",
   "execution_count": 14,
   "metadata": {
    "ExecuteTime": {
     "end_time": "2021-06-04T10:40:32.425034Z",
     "start_time": "2021-06-04T10:40:32.420012Z"
    },
    "hidden": true
   },
   "outputs": [
    {
     "name": "stdout",
     "output_type": "stream",
     "text": [
      "conf_mat_XGboost: [[ 9  0  0]\n",
      " [ 0  8  0]\n",
      " [ 0  1 12]]\n"
     ]
    }
   ],
   "source": [
    "# calculate confusion matrix\n",
    "cm_XGboost = confusion_matrix(y_val, y_pred_XGboost)\n",
    "\n",
    "print(f\"conf_mat_XGboost: {cm_XGboost}\")"
   ]
  },
  {
   "cell_type": "markdown",
   "metadata": {
    "deletable": false,
    "editable": false,
    "heading_collapsed": true,
    "hidden": true,
    "run_control": {
     "frozen": true
    }
   },
   "source": [
    "### Compare Gradient Boost & XGboost Algorithm According to Evaluation Part Results:"
   ]
  },
  {
   "cell_type": "markdown",
   "metadata": {
    "hidden": true
   },
   "source": [
    "Write your analysis here:"
   ]
  }
 ],
 "metadata": {
  "colab": {
   "authorship_tag": "ABX9TyNsq3Fus2ZeuFk0OjYV90kk",
   "collapsed_sections": [],
   "name": "ML2021S-HW6-Practical.ipynb",
   "provenance": []
  },
  "kernelspec": {
   "display_name": "Python 3",
   "language": "python",
   "name": "python3"
  },
  "language_info": {
   "codemirror_mode": {
    "name": "ipython",
    "version": 3
   },
   "file_extension": ".py",
   "mimetype": "text/x-python",
   "name": "python",
   "nbconvert_exporter": "python",
   "pygments_lexer": "ipython3",
   "version": "3.8.6"
  },
  "toc": {
   "base_numbering": 1,
   "nav_menu": {},
   "number_sections": true,
   "sideBar": true,
   "skip_h1_title": false,
   "title_cell": "Table of Contents",
   "title_sidebar": "Contents",
   "toc_cell": false,
   "toc_position": {},
   "toc_section_display": true,
   "toc_window_display": false
  },
  "varInspector": {
   "cols": {
    "lenName": 16,
    "lenType": 16,
    "lenVar": 40
   },
   "kernels_config": {
    "python": {
     "delete_cmd_postfix": "",
     "delete_cmd_prefix": "del ",
     "library": "var_list.py",
     "varRefreshCmd": "print(var_dic_list())"
    },
    "r": {
     "delete_cmd_postfix": ") ",
     "delete_cmd_prefix": "rm(",
     "library": "var_list.r",
     "varRefreshCmd": "cat(var_dic_list()) "
    }
   },
   "types_to_exclude": [
    "module",
    "function",
    "builtin_function_or_method",
    "instance",
    "_Feature"
   ],
   "window_display": false
  }
 },
 "nbformat": 4,
 "nbformat_minor": 4
}
